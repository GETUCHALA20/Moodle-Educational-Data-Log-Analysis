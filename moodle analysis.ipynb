{
 "cells": [
  {
   "cell_type": "markdown",
   "metadata": {},
   "source": [
    "# Moodle Analysis: Educational Data Log Analysis"
   ]
  },
  {
   "cell_type": "code",
   "execution_count": 1,
   "metadata": {},
   "outputs": [
    {
     "name": "stdout",
     "output_type": "stream",
     "text": [
      "Collecting psycopg2\n",
      "  Downloading https://files.pythonhosted.org/packages/fd/09/b6c3e8442db0342629d1c95e9c451d7ee0920f6c1152edcc0d4bd0ee7ade/psycopg2-2.8.6-cp36-cp36m-win_amd64.whl (1.1MB)\n",
      "Installing collected packages: psycopg2\n",
      "Successfully installed psycopg2-2.8.6\n"
     ]
    }
   ],
   "source": [
    "!pip install psycopg2"
   ]
  },
  {
   "cell_type": "code",
   "execution_count": 4,
   "metadata": {},
   "outputs": [
    {
     "name": "stdout",
     "output_type": "stream",
     "text": [
      "Collecting logger\n",
      "  Downloading https://files.pythonhosted.org/packages/73/2f/b0d28eaa1e2c1cf64129f8da3fe701888d152677fec708cd0f13e8309e1e/logger-1.4.tar.gz\n",
      "Building wheels for collected packages: logger\n",
      "  Building wheel for logger (setup.py): started\n",
      "  Building wheel for logger (setup.py): finished with status 'done'\n",
      "  Stored in directory: C:\\Users\\owner pc\\AppData\\Local\\pip\\Cache\\wheels\\91\\d4\\96\\08341e2ac92c1ed4b760e4848e1acda3795f0257a83b94b42e\n",
      "Successfully built logger\n",
      "Installing collected packages: logger\n",
      "Successfully installed logger-1.4\n"
     ]
    }
   ],
   "source": [
    "!pip install logger"
   ]
  },
  {
   "cell_type": "code",
   "execution_count": 46,
   "metadata": {},
   "outputs": [],
   "source": [
    "import numpy as np\n",
    "import pandas as pd"
   ]
  },
  {
   "cell_type": "code",
   "execution_count": 36,
   "metadata": {},
   "outputs": [],
   "source": [
    "### connect with plsql\n",
    "import psycopg2\n",
    "import logger\n",
    "from sqlalchemy import create_engine\n",
    "def open_local_db(**kwargs):\n",
    "    #\n",
    "    user = kwargs.get('user','postgres')\n",
    "    db = kwargs.get('db','moodle')\n",
    "    #\n",
    "    try:\n",
    "        params = dict(user=user,\n",
    "                      host = \"127.0.0.1\",\n",
    "                      port = \"5432\",\n",
    "                      password = 'root',\n",
    "                      database = db)\n",
    "        proot = 'postgresql://{user}:{password}@{host}:5432/{database}'.format(**params)\n",
    "        #print(proot)\n",
    "        logger.logging.info('Connecting to the PostgreSQL database...using sqlalchemy engine')\n",
    "        engine = create_engine(proot)\n",
    "        #\n",
    "    except (Exception, psycopg2.Error) as error :\n",
    "        logger.logging.error(f\"Error while connecting to PostgreSQL {error}\")\n",
    "    return engine\n"
   ]
  },
  {
   "cell_type": "code",
   "execution_count": 37,
   "metadata": {},
   "outputs": [
    {
     "name": "stdout",
     "output_type": "stream",
     "text": [
      "[22/Sep/2020 14:42:34] INFO - Connecting to the PostgreSQL database...using sqlalchemy engine\n"
     ]
    }
   ],
   "source": [
    "engine = open_local_db()"
   ]
  },
  {
   "cell_type": "code",
   "execution_count": 40,
   "metadata": {},
   "outputs": [],
   "source": []
  },
  {
   "cell_type": "code",
   "execution_count": 42,
   "metadata": {},
   "outputs": [],
   "source": [
    "conn = engine.connect()"
   ]
  },
  {
   "cell_type": "code",
   "execution_count": 73,
   "metadata": {},
   "outputs": [
    {
     "name": "stdout",
     "output_type": "stream",
     "text": [
      "(448,)\n"
     ]
    }
   ],
   "source": [
    "# Count number of tables in the databases\n",
    "number_of_tables = conn.execute(\"SELECT count(*) FROM INFORMATION_SCHEMA.TABLES WHERE TABLE_SCHEMA = 'public';\")\n",
    "for row in number_of_tables:\n",
    "    print(row)"
   ]
  },
  {
   "cell_type": "code",
   "execution_count": null,
   "metadata": {},
   "outputs": [],
   "source": []
  },
  {
   "cell_type": "code",
   "execution_count": 44,
   "metadata": {},
   "outputs": [],
   "source": [
    "def create_pandas_table(sql_query, database = conn):\n",
    "    table = pd.read_sql_query(sql_query, database)\n",
    "    return table"
   ]
  },
  {
   "cell_type": "code",
   "execution_count": 47,
   "metadata": {},
   "outputs": [],
   "source": [
    "mdl_user = create_pandas_table(\"SELECT * FROM mdl_user;\")"
   ]
  },
  {
   "cell_type": "code",
   "execution_count": 48,
   "metadata": {},
   "outputs": [
    {
     "data": {
      "text/html": [
       "<div>\n",
       "<style scoped>\n",
       "    .dataframe tbody tr th:only-of-type {\n",
       "        vertical-align: middle;\n",
       "    }\n",
       "\n",
       "    .dataframe tbody tr th {\n",
       "        vertical-align: top;\n",
       "    }\n",
       "\n",
       "    .dataframe thead th {\n",
       "        text-align: right;\n",
       "    }\n",
       "</style>\n",
       "<table border=\"1\" class=\"dataframe\">\n",
       "  <thead>\n",
       "    <tr style=\"text-align: right;\">\n",
       "      <th></th>\n",
       "      <th>id</th>\n",
       "      <th>confirmed</th>\n",
       "      <th>policyagreed</th>\n",
       "      <th>deleted</th>\n",
       "      <th>suspended</th>\n",
       "      <th>idnumber</th>\n",
       "      <th>country</th>\n",
       "      <th>lang</th>\n",
       "      <th>firstaccess</th>\n",
       "      <th>lastaccess</th>\n",
       "      <th>lastlogin</th>\n",
       "      <th>currentlogin</th>\n",
       "      <th>lastip</th>\n",
       "      <th>gender</th>\n",
       "      <th>CountryCode</th>\n",
       "    </tr>\n",
       "  </thead>\n",
       "  <tbody>\n",
       "    <tr>\n",
       "      <th>0</th>\n",
       "      <td>1</td>\n",
       "      <td>1</td>\n",
       "      <td>0</td>\n",
       "      <td>0</td>\n",
       "      <td>0</td>\n",
       "      <td></td>\n",
       "      <td>Germany</td>\n",
       "      <td>en</td>\n",
       "      <td>0</td>\n",
       "      <td>0</td>\n",
       "      <td>0</td>\n",
       "      <td>0</td>\n",
       "      <td></td>\n",
       "      <td>Male</td>\n",
       "      <td>DE</td>\n",
       "    </tr>\n",
       "    <tr>\n",
       "      <th>1</th>\n",
       "      <td>20</td>\n",
       "      <td>1</td>\n",
       "      <td>0</td>\n",
       "      <td>0</td>\n",
       "      <td>0</td>\n",
       "      <td></td>\n",
       "      <td>Germany</td>\n",
       "      <td>en</td>\n",
       "      <td>1549745767</td>\n",
       "      <td>1562935333</td>\n",
       "      <td>1549745767</td>\n",
       "      <td>1562935333</td>\n",
       "      <td>197.215.32.111</td>\n",
       "      <td>Male</td>\n",
       "      <td>DE</td>\n",
       "    </tr>\n",
       "    <tr>\n",
       "      <th>2</th>\n",
       "      <td>15</td>\n",
       "      <td>1</td>\n",
       "      <td>0</td>\n",
       "      <td>0</td>\n",
       "      <td>0</td>\n",
       "      <td></td>\n",
       "      <td>Germany</td>\n",
       "      <td>en</td>\n",
       "      <td>1549633236</td>\n",
       "      <td>1563537002</td>\n",
       "      <td>1563469481</td>\n",
       "      <td>1563537002</td>\n",
       "      <td>41.184.239.200</td>\n",
       "      <td>Male</td>\n",
       "      <td>DE</td>\n",
       "    </tr>\n",
       "    <tr>\n",
       "      <th>3</th>\n",
       "      <td>36</td>\n",
       "      <td>1</td>\n",
       "      <td>0</td>\n",
       "      <td>0</td>\n",
       "      <td>0</td>\n",
       "      <td></td>\n",
       "      <td>Ghana</td>\n",
       "      <td>en</td>\n",
       "      <td>1549641288</td>\n",
       "      <td>1559227964</td>\n",
       "      <td>1549651186</td>\n",
       "      <td>1559227892</td>\n",
       "      <td>154.160.1.224</td>\n",
       "      <td>Male</td>\n",
       "      <td>GH</td>\n",
       "    </tr>\n",
       "    <tr>\n",
       "      <th>4</th>\n",
       "      <td>44</td>\n",
       "      <td>1</td>\n",
       "      <td>0</td>\n",
       "      <td>0</td>\n",
       "      <td>0</td>\n",
       "      <td></td>\n",
       "      <td>Ghana</td>\n",
       "      <td>en</td>\n",
       "      <td>1549637001</td>\n",
       "      <td>1560095090</td>\n",
       "      <td>1557475553</td>\n",
       "      <td>1560094908</td>\n",
       "      <td>129.122.1.14</td>\n",
       "      <td>Male</td>\n",
       "      <td>GH</td>\n",
       "    </tr>\n",
       "  </tbody>\n",
       "</table>\n",
       "</div>"
      ],
      "text/plain": [
       "   id  confirmed  policyagreed  deleted  suspended idnumber  country lang  \\\n",
       "0   1          1             0        0          0           Germany   en   \n",
       "1  20          1             0        0          0           Germany   en   \n",
       "2  15          1             0        0          0           Germany   en   \n",
       "3  36          1             0        0          0             Ghana   en   \n",
       "4  44          1             0        0          0             Ghana   en   \n",
       "\n",
       "   firstaccess  lastaccess   lastlogin  currentlogin          lastip gender  \\\n",
       "0            0           0           0             0                   Male   \n",
       "1   1549745767  1562935333  1549745767    1562935333  197.215.32.111   Male   \n",
       "2   1549633236  1563537002  1563469481    1563537002  41.184.239.200   Male   \n",
       "3   1549641288  1559227964  1549651186    1559227892   154.160.1.224   Male   \n",
       "4   1549637001  1560095090  1557475553    1560094908    129.122.1.14   Male   \n",
       "\n",
       "  CountryCode  \n",
       "0          DE  \n",
       "1          DE  \n",
       "2          DE  \n",
       "3          GH  \n",
       "4          GH  "
      ]
     },
     "execution_count": 48,
     "metadata": {},
     "output_type": "execute_result"
    }
   ],
   "source": [
    "mdl_user.head()"
   ]
  },
  {
   "cell_type": "code",
   "execution_count": 49,
   "metadata": {},
   "outputs": [
    {
     "data": {
      "text/plain": [
       "(1052, 15)"
      ]
     },
     "execution_count": 49,
     "metadata": {},
     "output_type": "execute_result"
    }
   ],
   "source": [
    "mdl_user.shape"
   ]
  },
  {
   "cell_type": "code",
   "execution_count": 50,
   "metadata": {},
   "outputs": [],
   "source": [
    "mdl_logstore_standard_log = create_pandas_table(\"SELECT * FROM mdl_logstore_standard_log;\")\n",
    "mdl_context = create_pandas_table(\"SELECT * FROM mdl_context;\")\n",
    "mdl_course = create_pandas_table(\"SELECT * FROM mdl_course;\")\n",
    "mdl_modules = create_pandas_table(\"SELECT * FROM mdl_modules;\")\n",
    "mdl_course_modules = create_pandas_table(\"SELECT * FROM mdl_course_modules;\")\n",
    "mdl_course_modules_completion = create_pandas_table(\"SELECT * FROM mdl_course_modules_completion;\")\n",
    "mdl_grade_items = create_pandas_table(\"SELECT * FROM mdl_grade_items;\")\n",
    "mdl_grade_grades = create_pandas_table(\"SELECT * FROM mdl_grade_grades;\")\n"
   ]
  },
  {
   "cell_type": "code",
   "execution_count": 56,
   "metadata": {},
   "outputs": [
    {
     "name": "stdout",
     "output_type": "stream",
     "text": [
      "   id                     eventname component    action     target  \\\n",
      "0   1     \\core\\event\\course_viewed      core    viewed     course   \n",
      "1   2     \\core\\event\\user_loggedin      core  loggedin       user   \n",
      "2   3  \\core\\event\\dashboard_viewed      core    viewed  dashboard   \n",
      "3   4     \\core\\event\\course_viewed      core    viewed     course   \n",
      "4   5     \\core\\event\\course_viewed      core    viewed     course   \n",
      "\n",
      "  objecttable  objectid crud  edulevel  contextid  ...  contextinstanceid  \\\n",
      "0        None       NaN    r         2          2  ...                  1   \n",
      "1        user       2.0    r         0          1  ...                  0   \n",
      "2        None       NaN    r         0          5  ...                  2   \n",
      "3        None       NaN    r         2          2  ...                  1   \n",
      "4        None       NaN    r         2          2  ...                  1   \n",
      "\n",
      "   userid  courseid  relateduserid  anonymous  \\\n",
      "0       0         1            NaN          0   \n",
      "1       2         0            NaN          0   \n",
      "2       2         0            2.0          0   \n",
      "3       0         1            NaN          0   \n",
      "4       0         1            NaN          0   \n",
      "\n",
      "                               other timecreated  origin              ip  \\\n",
      "0                                 N;  1548311114     web  105.233.48.139   \n",
      "1  a:1:{s:8:\"username\";s:5:\"admin\";}  1548311148     web  105.233.48.139   \n",
      "2                                 N;  1548311179     web  105.233.48.139   \n",
      "3                                 N;  1548313994     web  105.233.48.139   \n",
      "4                                 N;  1548319150     web   41.13.254.147   \n",
      "\n",
      "  realuserid  \n",
      "0        NaN  \n",
      "1        NaN  \n",
      "2        NaN  \n",
      "3        NaN  \n",
      "4        NaN  \n",
      "\n",
      "[5 rows x 21 columns]\n",
      "    id  contextlevel  instanceid           path  depth  locked\n",
      "0    1            10           0             /1      1       0\n",
      "1  496            70         226  /1/72/430/496      4       0\n",
      "2    2            50           1           /1/2      2       0\n",
      "3    3            40           1           /1/3      2       0\n",
      "4  499            70         228  /1/72/498/499      4       0\n",
      "   id  category  sortorder                                       fullname  \\\n",
      "0   7         6      60002                          FDP Design -WordPress   \n",
      "1  10         1      30001  How to design and facilitate an online course   \n",
      "2  50        10      80001                How data can impact development   \n",
      "3   8         1      30002                            Game-based Learning   \n",
      "4  46         7      10001               Welcome to UpSkill - start here!   \n",
      "\n",
      "              shortname idnumber  \\\n",
      "0         FDP WordPress            \n",
      "1       Design eCourse             \n",
      "2  Data for Development            \n",
      "3     Game and Learning            \n",
      "4    Welcome to UpSkill            \n",
      "\n",
      "                                             summary  summaryformat  format  \\\n",
      "0  <p><img src=\"@@PLUGINFILE@@/WordPress.svg.png\"...              1  topics   \n",
      "1  <p dir=\"ltr\"><span>After completing this cours...              1  topics   \n",
      "2  <p>This course is part of the Changemaking tra...              1  topics   \n",
      "3  <p><p>In this module, you will explore the var...              1  topics   \n",
      "4  <p>Start here to learn about 10 Academy and wh...              1  topics   \n",
      "\n",
      "   showgrades  ...  defaultgroupingid  lang  calendartype  theme  timecreated  \\\n",
      "0           1  ...                  0                              1528706177   \n",
      "1           1  ...                  0    en                boost   1374053678   \n",
      "2           1  ...                  0    en                boost   1562232960   \n",
      "3           1  ...                  0                      boost   1543612197   \n",
      "4           1  ...                  0    en                boost   1550050414   \n",
      "\n",
      "   timemodified  requested  enablecompletion  completionnotify    cacherev  \n",
      "0    1548697122          0                 1                 0  1561503107  \n",
      "1    1562773717          0                 0                 0  1562773718  \n",
      "2    1562307278          0                 1                 0  1563791465  \n",
      "3    1562773782          0                 0                 0  1562773785  \n",
      "4    1562772944          0                 1                 0  1562930608  \n",
      "\n",
      "[5 rows x 31 columns]\n",
      "   id        name  cron  lastcron search  visible\n",
      "0   2  assignment    60         0               0\n",
      "1   3        book     0         0               1\n",
      "2   5      choice     0         0               1\n",
      "3   6        data     0         0               1\n",
      "4   7    feedback     0         0               1\n",
      "    id  course  module  instance  section idnumber       added  score  indent  \\\n",
      "0    1       1       9         1        2     None  1548435669      0       0   \n",
      "1   23       6      12         1       17     None  1206338932      0       0   \n",
      "2   69       8      15         2       29           1543620947      0       0   \n",
      "3   24       6       9         4       17     None  1206338989      0       0   \n",
      "4  227      11       9        24       57     None  1549462268      0       0   \n",
      "\n",
      "   visible  ...  visibleold  groupmode  groupingid  completion  \\\n",
      "0        1  ...           1          0           0           0   \n",
      "1        1  ...           1          0           0           0   \n",
      "2        1  ...           1          0           0           0   \n",
      "3        1  ...           1          1           0           0   \n",
      "4        1  ...           1          0           0           0   \n",
      "\n",
      "   completiongradeitemnumber  completionview  completionexpected  \\\n",
      "0                        NaN               0                   0   \n",
      "1                        NaN               0                   0   \n",
      "2                        NaN               0                   0   \n",
      "3                        NaN               0                   0   \n",
      "4                        NaN               0                   0   \n",
      "\n",
      "   showdescription  availability deletioninprogress  \n",
      "0                0          None                  0  \n",
      "1                0          None                  0  \n",
      "2                0          None                  0  \n",
      "3                0          None                  0  \n",
      "4                0          None                  0  \n",
      "\n",
      "[5 rows x 21 columns]\n",
      "     id  coursemoduleid  userid  completionstate  viewed overrideby  \\\n",
      "0  5801             224      56                1     0.0       None   \n",
      "1     3             228       3                0     1.0       None   \n",
      "2    36             228       2                0     1.0       None   \n",
      "3    37             228       5                0     1.0       None   \n",
      "4    38             228      32                0     1.0       None   \n",
      "\n",
      "   timemodified  \n",
      "0    1561988963  \n",
      "1             0  \n",
      "2             0  \n",
      "3             0  \n",
      "4             0  \n",
      "   id  courseid  categoryid                      itemname itemtype itemmodule  \\\n",
      "0  16         6         5.0   Report Grades (please read)      mod     assign   \n",
      "1  91         1         NaN                          None   course       None   \n",
      "2  17         7         NaN                          None   course       None   \n",
      "3  14         6         5.0           Additional thoughts      mod      forum   \n",
      "4  29         9         9.0  String Variables Review Quiz      mod       quiz   \n",
      "\n",
      "   iteminstance  itemnumber iteminfo idnumber  ... sortorder  display  \\\n",
      "0             7         0.0     None     None  ...         8        0   \n",
      "1            11         NaN     None     None  ...         1        0   \n",
      "2             6         NaN     None     None  ...         1        0   \n",
      "3             5         0.0     None     None  ...         9        0   \n",
      "4             9         0.0     None     None  ...        15        0   \n",
      "\n",
      "   decimals  hidden  locked locktime  needsupdate  weightoverride  \\\n",
      "0      None       0       0        0            0               0   \n",
      "1      None       0       0        0            0               0   \n",
      "2      None       0       0        0            0               0   \n",
      "3      None       0       0        0            0               0   \n",
      "4      None       0       0        0            0               0   \n",
      "\n",
      "   timecreated  timemodified  \n",
      "0   1548694012    1548694012  \n",
      "1   1548863444    1548863444  \n",
      "2   1528952305    1528952305  \n",
      "3   1548694012    1548694012  \n",
      "4   1548694302    1548694302  \n",
      "\n",
      "[5 rows x 31 columns]\n",
      "   id  itemid  userid  rawgrade  rawgrademax  rawgrademin  rawscaleid  \\\n",
      "0   2      92       3       NaN        100.0          0.0         NaN   \n",
      "1   1      93       3       NaN         10.0          0.0         NaN   \n",
      "2  51     126      50       NaN         12.0          0.0         NaN   \n",
      "3  35      92      65       NaN         12.0          0.0         NaN   \n",
      "4  34      93      65       0.0         12.0          0.0         NaN   \n",
      "\n",
      "   usermodified  finalgrade  hidden  ...  overridden  excluded  feedback  \\\n",
      "0           NaN         NaN       0  ...           0         0      None   \n",
      "1           3.0         NaN       0  ...           0         0      None   \n",
      "2           NaN        12.0       0  ...           0         0      None   \n",
      "3           NaN         0.0       0  ...           0         0      None   \n",
      "4           3.0         0.0       0  ...           0         0      None   \n",
      "\n",
      "   feedbackformat  information informationformat   timecreated  timemodified  \\\n",
      "0               0         None                 0           NaN           NaN   \n",
      "1               0         None                 0           NaN           NaN   \n",
      "2               0         None                 0           NaN  1.549723e+09   \n",
      "3               0         None                 0           NaN  1.549642e+09   \n",
      "4               0         None                 0  1.549640e+09  1.549642e+09   \n",
      "\n",
      "   aggregationstatus  aggregationweight  \n",
      "0            unknown                NaN  \n",
      "1            novalue                0.0  \n",
      "2            unknown                NaN  \n",
      "3            unknown                NaN  \n",
      "4               used                1.0  \n",
      "\n",
      "[5 rows x 23 columns]\n"
     ]
    }
   ],
   "source": [
    "print(mdl_logstore_standard_log.head())\n",
    "print(mdl_context.head())\n",
    "print(mdl_course.head())\n",
    "print(mdl_modules.head())\n",
    "print(mdl_course_modules.head())\n",
    "print(mdl_course_modules_completion.head())\n",
    "print(mdl_grade_items.head())\n",
    "print(mdl_grade_grades.head())"
   ]
  },
  {
   "cell_type": "code",
   "execution_count": 57,
   "metadata": {},
   "outputs": [
    {
     "name": "stdout",
     "output_type": "stream",
     "text": [
      "(417554, 21)\n",
      "(4359, 6)\n",
      "(15, 31)\n",
      "(26, 6)\n",
      "(290, 21)\n",
      "(4483, 7)\n",
      "(113, 31)\n",
      "(3643, 23)\n"
     ]
    }
   ],
   "source": [
    "print(mdl_logstore_standard_log.shape)\n",
    "print(mdl_context.shape)\n",
    "print(mdl_course.shape)\n",
    "print(mdl_modules.shape)\n",
    "print(mdl_course_modules.shape)\n",
    "print(mdl_course_modules_completion.shape)\n",
    "print(mdl_grade_items.shape)\n",
    "print(mdl_grade_grades.shape)"
   ]
  },
  {
   "cell_type": "code",
   "execution_count": null,
   "metadata": {},
   "outputs": [],
   "source": []
  },
  {
   "cell_type": "code",
   "execution_count": null,
   "metadata": {},
   "outputs": [],
   "source": []
  },
  {
   "cell_type": "code",
   "execution_count": null,
   "metadata": {},
   "outputs": [],
   "source": []
  }
 ],
 "metadata": {
  "kernelspec": {
   "display_name": "Python 3",
   "language": "python",
   "name": "python3"
  },
  "language_info": {
   "codemirror_mode": {
    "name": "ipython",
    "version": 3
   },
   "file_extension": ".py",
   "mimetype": "text/x-python",
   "name": "python",
   "nbconvert_exporter": "python",
   "pygments_lexer": "ipython3",
   "version": "3.6.7"
  }
 },
 "nbformat": 4,
 "nbformat_minor": 2
}
